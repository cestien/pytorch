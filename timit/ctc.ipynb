{
 "cells": [
  {
   "cell_type": "markdown",
   "id": "b80050c2",
   "metadata": {},
   "source": [
    "# Reconocimiento de fonemas usando CTC"
   ]
  },
  {
   "cell_type": "code",
   "execution_count": 7,
   "id": "6bd4c865",
   "metadata": {},
   "outputs": [
    {
     "name": "stdout",
     "output_type": "stream",
     "text": [
      "cuda\n"
     ]
    }
   ],
   "source": [
    "import json\n",
    "import torch\n",
    "import torch.utils.data as data\n",
    "import torchaudio\n",
    "from torch.nn.utils.rnn import pad_sequence\n",
    "from torch.utils.data import  Dataset, DataLoader\n",
    "\n",
    "device = torch.device(\"cuda\" if torch.cuda.is_available() else \"cpu\")\n",
    "print(device)"
   ]
  },
  {
   "cell_type": "markdown",
   "id": "04ad64a3",
   "metadata": {},
   "source": [
    "## Implementación del dataset y el dataloader"
   ]
  },
  {
   "cell_type": "markdown",
   "id": "8f97ec1d",
   "metadata": {},
   "source": [
    "### Dataset\n",
    "Me convierte los datos crudos para que puedan ser usados por `Dataloader`. Me permite implementar una función `__getitem__()` en la cual leemos los datos y devolvemos por ejemplo el wav y la transcripción de cada dato."
   ]
  },
  {
   "cell_type": "code",
   "execution_count": null,
   "id": "ccc0ee22",
   "metadata": {},
   "outputs": [],
   "source": [
    "train_json = 'data/train.json'\n",
    "test_json = 'data/test.json'\n",
    "valid_json = 'data/dev.json'\n",
    "\n",
    "class TimitDataset(Dataset):\n",
    "    def __init__(self, json_file):\n",
    "        with open(json_file, 'r') as f:\n",
    "            self.datos_json = json.load(f)\n",
    "\n",
    "    def __len__(self):\n",
    "        return len(self.datos_json)\n",
    "    \n",
    "    def __getitem__(self,key):\n",
    "        wavdir = self.datos_json[key]['wav']\n",
    "        duration = self.datos_json[key]['duration']\n",
    "        phn = self.datos_json[key]['phn']\n",
    "        return wavdir, duration, phn\n",
    "\n",
    "def collate_fn(batch):\n",
    "    # El batch es una lista de tuplas: [(dato1,label1), (dato2,label2),...]\n",
    "    sequences, labels = zip(*batch) # Esto devuelve: \n",
    "                                    # sequences = (dato1,dato2,...)\n",
    "                                    # labels = (label1,label2,...)\n",
    "    padded_sequences = pad_sequence(sequences, batch_first=True, padding_value=0)\n",
    "    labels = torch.tensor(labels)\n",
    "    return padded_sequences, labels # Esta es la salida del dataloader\n",
    "   \n",
    "train_ds = TimitDataset(train_json)\n",
    "test_ds = TimitDataset(test_json)\n",
    "valid_ds = TimitDataset(valid_json)\n",
    "\n",
    "train_dl = DataLoader(train_ds, batch_size=8, shuffle=True, collate_fn=collate_fn)\n",
    "test_dl = DataLoader(train_ds, batch_size=16, shuffle=False, collate_fn=collate_fn)\n",
    "valid_dl = DataLoader(train_ds, batch_size=16, shuffle=False, collate_fn=collate_fn)\n",
    "\n",
    "for batch in train_dl:\n",
    "    print(batch[1])  # Imprime las etiquetas del batch\n",
    "        "
   ]
  },
  {
   "cell_type": "code",
   "execution_count": null,
   "id": "3fff94f1",
   "metadata": {},
   "outputs": [
    {
     "data": {
      "text/plain": [
       "<__main__.TimitDataset at 0x73d0d7546e70>"
      ]
     },
     "execution_count": 22,
     "metadata": {},
     "output_type": "execute_result"
    }
   ],
   "source": [
    "train_ds[0]"
   ]
  },
  {
   "cell_type": "code",
   "execution_count": 15,
   "id": "2d5ed281",
   "metadata": {},
   "outputs": [
    {
     "data": {
      "text/plain": [
       "462"
      ]
     },
     "execution_count": 15,
     "metadata": {},
     "output_type": "execute_result"
    }
   ],
   "source": [
    "len(dataloader)"
   ]
  },
  {
   "cell_type": "code",
   "execution_count": null,
   "id": "cc8d874a",
   "metadata": {},
   "outputs": [
    {
     "data": {
      "text/plain": [
       "'sil ah l aw l iy w ey hh iy er sil b ah r ae sh sil n l ay z aa l eh r er z sil'"
      ]
     },
     "execution_count": 4,
     "metadata": {},
     "output_type": "execute_result"
    }
   ],
   "source": [
    "wavdir, dur, phn = valid_dataset['mrws1_sx230']\n",
    "phn"
   ]
  },
  {
   "cell_type": "markdown",
   "id": "33c4d56f",
   "metadata": {},
   "source": [
    "### DataLoader\n",
    "La función principal es agrupar en batches los items que provienen del dataset y, si es necesario, padear los items para que el batch sea de igual ancho."
   ]
  }
 ],
 "metadata": {
  "kernelspec": {
   "display_name": "base",
   "language": "python",
   "name": "python3"
  },
  "language_info": {
   "codemirror_mode": {
    "name": "ipython",
    "version": 3
   },
   "file_extension": ".py",
   "mimetype": "text/x-python",
   "name": "python",
   "nbconvert_exporter": "python",
   "pygments_lexer": "ipython3",
   "version": "3.12.2"
  }
 },
 "nbformat": 4,
 "nbformat_minor": 5
}
