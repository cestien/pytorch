{
 "cells": [
  {
   "cell_type": "markdown",
   "id": "b80050c2",
   "metadata": {},
   "source": [
    "# Reconocimiento de fonemas usando CTC"
   ]
  },
  {
   "cell_type": "code",
   "execution_count": 11,
   "id": "6bd4c865",
   "metadata": {},
   "outputs": [
    {
     "name": "stdout",
     "output_type": "stream",
     "text": [
      "cuda\n"
     ]
    }
   ],
   "source": [
    "import json\n",
    "import torch\n",
    "import torch.utils.data as data\n",
    "import torchaudio\n",
    "import torch.nn as nn\n",
    "import torchaudio.transforms as F\n",
    "from torch.nn.utils.rnn import pad_sequence, pack_padded_sequence, pad_packed_sequence\n",
    "from collections import OrderedDict\n",
    "import tqdm\n",
    "from torch.utils.data import  Dataset, DataLoader\n",
    "from torchaudio.models.decoder import ctc_decoder # vamos a hacer un decoder greedy, por razones \n",
    "                                                  # didácticas, este se usaría si quisiera\n",
    "                                                  # implementarlo con beam search\n",
    "\n",
    "device = torch.device(\"cuda\" if torch.cuda.is_available() else \"cpu\")\n",
    "print(device)"
   ]
  },
  {
   "cell_type": "markdown",
   "id": "04ad64a3",
   "metadata": {},
   "source": [
    "## Implementación del dataset y el dataloader"
   ]
  },
  {
   "cell_type": "markdown",
   "id": "8f97ec1d",
   "metadata": {},
   "source": [
    "### Dataset\n",
    "Me convierte los datos crudos para que puedan ser usados por `Dataloader`. Me permite implementar una función `__getitem__()` en la cual leemos los datos y devolvemos por ejemplo el wav y la transcripción de cada dato."
   ]
  },
  {
   "cell_type": "code",
   "execution_count": 12,
   "id": "ccc0ee22",
   "metadata": {},
   "outputs": [],
   "source": [
    "vocab_file = 'data/label_encoder_new.txt'\n",
    "train_json = 'data/train.json'\n",
    "test_json = 'data/test.json'\n",
    "valid_json = 'data/dev.json'\n",
    "# Parámetros\n",
    "par = { 'n_fft': 400, 'n_mels': 40, 'bs':4, \n",
    "        'dropout': 0.15,\n",
    "        'cnn_blocks': 2, 'cnn_channels': (128,256), 'cnn_kernelsize': (3,3),\n",
    "        'rnn_blocks': 4, 'rnn_neurons': 512, \n",
    "        'dnn_blocks':2, 'dnn_neurons':512,\n",
    "        'output_neurons':40\n",
    "}\n",
    "\n",
    "def load_phoneme_vocabulary(filepath: str) -> tuple[dict, dict]:\n",
    "    \"\"\"\n",
    "    Carga un vocabulario de fonemas desde un archivo de texto.\n",
    "    El archivo debe tener el formato 'fonema=>indice' por línea.\n",
    "\n",
    "    Args:\n",
    "        filepath (str): La ruta al archivo de vocabulario.\n",
    "\n",
    "    Returns:\n",
    "        tuple[dict, dict]: Una tupla que contiene:\n",
    "            - phoneme_to_idx (dict): Un diccionario que mapea fonema a índice.\n",
    "            - idx_to_phoneme (dict): Un diccionario que mapea índice a fonema.\n",
    "    \"\"\"\n",
    "    phoneme_to_idx = {}\n",
    "    idx_to_phoneme = {}\n",
    "\n",
    "    with open(filepath, 'r', encoding='utf-8') as f:\n",
    "        for line in f:\n",
    "            parts = line.strip().split('=>')\n",
    "            if len(parts) == 2:\n",
    "                phoneme = parts[0].strip().strip(\"'\") \n",
    "                idx_str = parts[1].strip()\n",
    "                try:\n",
    "                    index = int(idx_str)\n",
    "                    phoneme_to_idx[phoneme] = index\n",
    "                    idx_to_phoneme[index] = phoneme\n",
    "                except ValueError:\n",
    "                    raise ValueError(f\"Error: Índice inválido en la línea: '{line.strip()}'\")\n",
    "            else:\n",
    "                raise ValueError(f\"Error: Línea mal formada (se esperaba 'fonema=>indice'): '{line.strip()}'\")\n",
    "    \n",
    "    return phoneme_to_idx, idx_to_phoneme\n",
    "\n",
    "\n",
    "class TimitDataset(Dataset):\n",
    "    def __init__(self, json_file, vocab_file):\n",
    "        try:\n",
    "            with open(json_file, 'r') as f:\n",
    "                self.datos_json = json.load(f)\n",
    "        except FileNotFoundError:\n",
    "            print(f\"Error: El archivo {json_file} no se encuentra.\")\n",
    "        # Get a list of all sample IDs (keys in the top-level dictionary)\n",
    "        self.datos_ids = list(self.datos_json.keys())\n",
    "        # Load phoneme vocabulary\n",
    "        self.str2int, self.int2str = load_phoneme_vocabulary(vocab_file)\n",
    "\n",
    "    def __len__(self):\n",
    "        return len(self.datos_json)\n",
    "    \n",
    "    def __getitem__(self, idx):\n",
    "        key = self.datos_ids[idx]\n",
    "        wavdir = self.datos_json[key]['wav']\n",
    "        duration = self.datos_json[key]['duration']\n",
    "        phn = self.datos_json[key]['phn']\n",
    "        # Load the audio file\n",
    "        waveform, sample_rate = torchaudio.load(wavdir)\n",
    "        # Convert waveform to a 1D tensor\n",
    "        waveform = waveform.squeeze(0)\n",
    "        # Convert phoneme labels to a tensor\n",
    "        phn_list = phn.strip().split()\n",
    "        phn_list = [self.str2int[phoneme] for phoneme in phn_list]\n",
    "        \n",
    "        return waveform, torch.tensor(phn_list)\n",
    "\n",
    "train_ds = TimitDataset(train_json,vocab_file)\n",
    "test_ds = TimitDataset(test_json,vocab_file)\n",
    "valid_ds = TimitDataset(valid_json,vocab_file)\n",
    "\n"
   ]
  },
  {
   "cell_type": "markdown",
   "id": "3b50dfd2",
   "metadata": {},
   "source": [
    "### DataLoader\n",
    "Me convierte los datos recibidos del Dataset en minibatches de igual longitud usando la función `fn_collate`"
   ]
  },
  {
   "cell_type": "code",
   "execution_count": 13,
   "id": "284bc7b2",
   "metadata": {},
   "outputs": [],
   "source": [
    "def collate_fn(batch):\n",
    "    # El batch es una lista de tuplas: [(dato1,label1), (dato2,label2),...]\n",
    "    sequences, labels = zip(*batch) # Esto devuelve: \n",
    "                                    # sequences = (dato1,dato2,...)\n",
    "                                    # labels = (label1,label2,...)\n",
    "    #phn_tensors = [torch.tensor([ord(c) for c in label]) for label in labels]\n",
    "\n",
    "    wav_length = torch.tensor([w.shape[0] for w in sequences], dtype=torch.long)\n",
    "    phn_length = torch.tensor([p.shape[0] for p in labels], dtype=torch.long)\n",
    "    \n",
    "    wav_length = wav_length.float() / torch.max(wav_length.float()) \n",
    "    phn_length = phn_length.float() / torch.max(phn_length.float()) \n",
    "    padded_wav = pad_sequence(sequences, batch_first=True, padding_value=0)\n",
    "    padded_phn = pad_sequence(labels, batch_first=True, padding_value= -1)\n",
    "    return (padded_wav, wav_length), (padded_phn, phn_length) # Esta es la salida del dataloader\n",
    "\n",
    "\n",
    "\n",
    "train_dl = DataLoader(train_ds, batch_size=8, shuffle=True, collate_fn=collate_fn)\n",
    "test_dl = DataLoader(train_ds, batch_size=16, shuffle=False, collate_fn=collate_fn)\n",
    "valid_dl = DataLoader(train_ds, batch_size=16, shuffle=False, collate_fn=collate_fn)\n",
    "\n",
    "  \n"
   ]
  },
  {
   "cell_type": "markdown",
   "id": "04b7d974",
   "metadata": {},
   "source": [
    "## Implementación del modelo"
   ]
  },
  {
   "cell_type": "markdown",
   "id": "ad20ccdb",
   "metadata": {},
   "source": [
    "### Bloques auxiliares\n",
    "  - `Transpose`: Implementa la traspuesta en forma de módulo para poder usarla en `Sequential`\n",
    "  - `CNN_block`: Implementa un bloque que realiza:\n",
    "    - convo1d\n",
    "    - layer normalization\n",
    "    - Leaky Relu\n",
    "    - Pooling\n",
    "    - drop-out "
   ]
  },
  {
   "cell_type": "code",
   "execution_count": 14,
   "id": "0f0f6cf1",
   "metadata": {},
   "outputs": [],
   "source": [
    "class Transpose(nn.Module):\n",
    "    def __init__(self, dim0: int, dim1: int):\n",
    "        super().__init__()\n",
    "        self.dim0 = dim0\n",
    "        self.dim1 = dim1\n",
    "\n",
    "    def forward(self, x: torch.Tensor) -> torch.Tensor:\n",
    "        return x.transpose(self.dim0, self.dim1)\n",
    "    \n",
    "class CNN_block(nn.Module):\n",
    "    def __init__(self, n_in: int, n_out: int, kernel_size: int, \n",
    "                    pool_kernel_size: int = 1, do_prob: float = 0.0):\n",
    "        super().__init__()\n",
    "        pad_amount = (kernel_size - 1) // 2\n",
    "        layers = []\n",
    "        layers.append( nn.Conv1d(in_channels=n_in, out_channels=n_out, kernel_size=kernel_size, stride=1, \n",
    "                      padding=pad_amount, padding_mode= \"replicate\") )\n",
    "        layers.append(Transpose(1,2))\n",
    "        layers.append(nn.LayerNorm(n_out))\n",
    "        layers.append(Transpose(1,2))\n",
    "        layers.append(nn.LeakyReLU())\n",
    "        layers.append(nn.MaxPool1d(kernel_size=pool_kernel_size, stride=1))\n",
    "        layers.append(nn.Dropout(p=do_prob))\n",
    "        self.bloque_cnn = nn.Sequential(*layers)\n",
    "        self.pool_kernel_size = pool_kernel_size\n",
    "    \n",
    "    def forward(self, x: torch.Tensor, lengths: torch.Tensor):\n",
    "        x = self.bloque_cnn(x)\n",
    "\n",
    "        # Create a boolean mask: True for valid data, False for padding\n",
    "        new_lengths = lengths.float() - self.pool_kernel_size + 1\n",
    "        new_lengths = torch.max(new_lengths, torch.tensor(1.0, device=new_lengths.device))\n",
    "        new_lengths = new_lengths.long()\n",
    "        output_max_len = x.size(2)\n",
    "        mask = torch.arange(output_max_len).unsqueeze(0) < new_lengths.unsqueeze(1)\n",
    "        \n",
    "        mask = mask.unsqueeze(1) \n",
    "        x_masked = x * mask.float()\n",
    "\n",
    "        return x_masked, new_lengths\n",
    "\n"
   ]
  },
  {
   "cell_type": "markdown",
   "id": "24a1c3c4",
   "metadata": {},
   "source": [
    "### Modelo: `Model_CNN_RNN_DNN_PHN`\n",
    "Modelo que implementa varios bloques de convolución, recurrencia y feed-forward, además transforma el espacio de logits en probabilidad de fonemas.\n"
   ]
  },
  {
   "cell_type": "code",
   "execution_count": 19,
   "id": "7168699a",
   "metadata": {},
   "outputs": [],
   "source": [
    "class Model_CNN_RNN_DNN(nn.Module):\n",
    "    def __init__(self, drop_out, n_mels, cnn_blocks, cnn_channels, cnn_kernel_size,\n",
    "                 rnn_blocks, rnn_neurons, dnn_blocks, dnn_neurons,out_neurons):\n",
    "        super().__init__()\n",
    "        in_0 = n_mels\n",
    "        self.cnn_bloques = nn.ModuleDict()\n",
    "        self.cnn_blocks = cnn_blocks\n",
    "        self.dnn_blocks = dnn_blocks\n",
    "        # Bloques CNN_block. Se implementan con CNN_block        \n",
    "        n_in = n_mels\n",
    "        for i in range(self.cnn_blocks):\n",
    "            n_out = cnn_channels[i]\n",
    "            self.cnn_bloques[f\"cnn_block_{i+1}\"] = CNN_block(n_in=n_in, n_out=n_out, \n",
    "                                                        kernel_size=cnn_kernel_size[i], \n",
    "                                                        do_prob=drop_out)\n",
    "            n_in = n_out # El siguiente bloque recibe la salida del anterior\n",
    "        \n",
    "        # Bloques RNN. Se implementan con GRU\n",
    "        self.rnn_blocks = rnn_blocks\n",
    "        self.rnn_bloques = nn.ModuleDict()\n",
    "        n_in = n_out # El primer bloque recibe la salida del último bloque CNN\n",
    "        for i in range(rnn_blocks):\n",
    "            self.rnn_bloques[f\"rnn_block_{i+1}\"] = nn.GRU(input_size=n_in, hidden_size=rnn_neurons,\n",
    "                num_layers=1, batch_first=True, bidirectional=True, \n",
    "                dropout=0)\n",
    "            n_in = rnn_neurons*2\n",
    "        \n",
    "        # Bloques DNN. Se implementan con DNN_block\n",
    "        self.dnn_bloques = nn.ModuleDict()\n",
    "        n_in = rnn_neurons * 2 # El primer bloque recibe la salida del último bloque RNN\n",
    "        for i in range(dnn_blocks):\n",
    "            n_out = dnn_neurons\n",
    "            self.dnn_bloques[f\"dnn_block_{i+1}\"] = nn.Sequential(nn.Linear(n_in, n_out),\n",
    "                nn.LayerNorm(n_out), nn.LeakyReLU(),nn.Dropout(p=drop_out))\n",
    "            n_in = n_out\n",
    "\n",
    "    def forward(self, x: torch.Tensor, lengths: torch.Tensor):\n",
    "        \n",
    "        for i in range(cnn_blocks):\n",
    "            au = self.cnn_bloques[f\"cnn_block_{i+1}\"]\n",
    "            x, lengths = au(x, lengths)\n",
    "        x = x.permute(0, 2, 1).contiguous() \n",
    "        packed_x = pack_padded_sequence(x, lengths.cpu(), batch_first=True, enforce_sorted=False)\n",
    "        for i in range(self.rnn_blocks):\n",
    "            au = self.rnn_bloques[f\"rnn_block_{i+1}\"]\n",
    "            packed_x, _ = au(packed_x)\n",
    "        x, _ = pad_packed_sequence(packed_x, batch_first=True)\n",
    "        for i in range(self.dnn_blocks):\n",
    "            au = self.dnn_bloques[f\"dnn_block_{i+1}\"]\n",
    "            x = au(x)\n",
    "        logit = nn.Linear(self.dnn_neurons, )\n",
    "        return x, lengths\n",
    "\n"
   ]
  },
  {
   "cell_type": "markdown",
   "id": "7dce2338",
   "metadata": {},
   "source": [
    "### Modelo completo\n",
    "completamos el modelo CNN_RNN_DNN con la capa de logit a probabilidades"
   ]
  },
  {
   "cell_type": "code",
   "execution_count": 26,
   "id": "4d3602b1",
   "metadata": {},
   "outputs": [
    {
     "name": "stdout",
     "output_type": "stream",
     "text": [
      "Cantidad de parámetros del modelo: 17464488\n"
     ]
    }
   ],
   "source": [
    "modelo = nn.ModuleDict()\n",
    "modelo['cnn_rnn_dnn'] = Model_CNN_RNN_DNN(\n",
    "    drop_out=par['dropout'],\n",
    "    n_mels=par['n_mels'],\n",
    "    cnn_blocks=par['cnn_blocks'],\n",
    "    cnn_channels=par['cnn_channels'],\n",
    "    cnn_kernel_size=par['cnn_kernelsize'],\n",
    "    rnn_blocks=par['rnn_blocks'] ,\n",
    "    rnn_neurons=par['rnn_neurons'],\n",
    "    dnn_blocks=par['dnn_blocks'],\n",
    "    dnn_neurons=par['dnn_neurons'],\n",
    "    out_neurons=par['output_neurons']\n",
    ")   \n",
    "modelo['logits'] = nn.Linear(par['dnn_neurons'], par['output_neurons'])\n",
    "modelo['logsoftmax'] = nn.LogSoftmax(dim=-1)    \n",
    "print(f'Cantidad de parámetros del modelo: {sum(p.numel() for p in modelo.parameters() if p.requires_grad)}')\n"
   ]
  },
  {
   "cell_type": "markdown",
   "id": "7dff4833",
   "metadata": {},
   "source": [
    "## Proximo paso"
   ]
  },
  {
   "cell_type": "code",
   "execution_count": null,
   "id": "586c1689",
   "metadata": {},
   "outputs": [],
   "source": [
    "class ASR(nn.Module):\n",
    "    def __init__(self, modelo, params, opt_class):\n",
    "        super().__init__()\n",
    "        modelo.to(device)\n",
    "        # Prepare iterating variables\n",
    "        self.avg_train_loss = 0.0\n",
    "        self.step = 0\n",
    "        self.optimizer_step = 0\n",
    "\n",
    "    # Train y valid\n",
    "    def fit(self, train_set, valid_set, n_epochs):\n",
    "        seguir en el fit de core\n",
    "\n",
    "        "
   ]
  }
 ],
 "metadata": {
  "kernelspec": {
   "display_name": "base",
   "language": "python",
   "name": "python3"
  },
  "language_info": {
   "codemirror_mode": {
    "name": "ipython",
    "version": 3
   },
   "file_extension": ".py",
   "mimetype": "text/x-python",
   "name": "python",
   "nbconvert_exporter": "python",
   "pygments_lexer": "ipython3",
   "version": "3.12.2"
  }
 },
 "nbformat": 4,
 "nbformat_minor": 5
}
