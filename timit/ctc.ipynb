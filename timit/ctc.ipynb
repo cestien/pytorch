{
 "cells": [
  {
   "cell_type": "markdown",
   "id": "b80050c2",
   "metadata": {},
   "source": [
    "# Reconocimiento de fonemas usando CTC"
   ]
  },
  {
   "cell_type": "code",
   "execution_count": 9,
   "id": "6bd4c865",
   "metadata": {},
   "outputs": [
    {
     "name": "stdout",
     "output_type": "stream",
     "text": [
      "cuda\n"
     ]
    }
   ],
   "source": [
    "import json\n",
    "import torch\n",
    "import torch.utils.data as data\n",
    "import torchaudio\n",
    "from torch.nn.utils.rnn import pad_sequence\n",
    "from torch.utils.data import  Dataset, DataLoader\n",
    "from torchaudio.models.decoder import ctc_decoder # vamos a hacer un decoder greedy, por razones \n",
    "                                                  # didácticas, este se usaría si quisiera\n",
    "                                                  # implementarlo con beam search\n",
    "\n",
    "device = torch.device(\"cuda\" if torch.cuda.is_available() else \"cpu\")\n",
    "print(device)"
   ]
  },
  {
   "cell_type": "markdown",
   "id": "04ad64a3",
   "metadata": {},
   "source": [
    "## Implementación del dataset y el dataloader"
   ]
  },
  {
   "cell_type": "markdown",
   "id": "8f97ec1d",
   "metadata": {},
   "source": [
    "### Dataset\n",
    "Me convierte los datos crudos para que puedan ser usados por `Dataloader`. Me permite implementar una función `__getitem__()` en la cual leemos los datos y devolvemos por ejemplo el wav y la transcripción de cada dato."
   ]
  },
  {
   "cell_type": "code",
   "execution_count": 16,
   "id": "ccc0ee22",
   "metadata": {},
   "outputs": [],
   "source": [
    "vocab_file = 'data/label_encoder.txt'\n",
    "train_json = 'data/train.json'\n",
    "test_json = 'data/test.json'\n",
    "valid_json = 'data/dev.json'\n",
    "\n",
    "def load_phoneme_vocabulary(filepath: str) -> tuple[dict, dict]:\n",
    "    \"\"\"\n",
    "    Carga un vocabulario de fonemas desde un archivo de texto.\n",
    "    El archivo debe tener el formato 'fonema=>indice' por línea.\n",
    "\n",
    "    Args:\n",
    "        filepath (str): La ruta al archivo de vocabulario.\n",
    "\n",
    "    Returns:\n",
    "        tuple[dict, dict]: Una tupla que contiene:\n",
    "            - phoneme_to_idx (dict): Un diccionario que mapea fonema a índice.\n",
    "            - idx_to_phoneme (dict): Un diccionario que mapea índice a fonema.\n",
    "    \"\"\"\n",
    "    phoneme_to_idx = {}\n",
    "    idx_to_phoneme = {}\n",
    "\n",
    "    with open(filepath, 'r', encoding='utf-8') as f:\n",
    "        for line in f:\n",
    "            parts = line.strip().split('=>')\n",
    "            if len(parts) == 2:\n",
    "                phoneme = parts[0].strip().strip(\"'\") \n",
    "                idx_str = parts[1].strip()\n",
    "                try:\n",
    "                    index = int(idx_str)\n",
    "                    phoneme_to_idx[phoneme] = index\n",
    "                    idx_to_phoneme[index] = phoneme\n",
    "                except ValueError:\n",
    "                    raise ValueError(f\"Error: Índice inválido en la línea: '{line.strip()}'\")\n",
    "            else:\n",
    "                raise ValueError(f\"Error: Línea mal formada (se esperaba 'fonema=>indice'): '{line.strip()}'\")\n",
    "    \n",
    "    return phoneme_to_idx, idx_to_phoneme\n",
    "\n",
    "\n",
    "class TimitDataset(Dataset):\n",
    "    def __init__(self, json_file, vocab_file):\n",
    "        try:\n",
    "            with open(json_file, 'r') as f:\n",
    "                self.datos_json = json.load(f)\n",
    "        except FileNotFoundError:\n",
    "            print(f\"Error: El archivo {json_file} no se encuentra.\")\n",
    "        # Get a list of all sample IDs (keys in the top-level dictionary)\n",
    "        self.datos_ids = list(self.datos_json.keys())\n",
    "        # Load phoneme vocabulary\n",
    "        self.str2int, self.int2str = load_phoneme_vocabulary(vocab_file)\n",
    "\n",
    "    def __len__(self):\n",
    "        return len(self.datos_json)\n",
    "    \n",
    "    def __getitem__(self, idx):\n",
    "        key = self.datos_ids[idx]\n",
    "        wavdir = self.datos_json[key]['wav']\n",
    "        duration = self.datos_json[key]['duration']\n",
    "        phn = self.datos_json[key]['phn']\n",
    "        # Load the audio file\n",
    "        waveform, sample_rate = torchaudio.load(wavdir)\n",
    "        # Convert waveform to a 1D tensor\n",
    "        waveform = waveform.squeeze(0)\n",
    "        # Convert phoneme labels to a tensor\n",
    "        phn_list = phn.strip().split()\n",
    "        phn_list = [self.str2int[phoneme] for phoneme in phn_list]\n",
    "        \n",
    "        return waveform, torch.tensor(phn_list)\n",
    "\n",
    "\n",
    "\n",
    "def collate_fn(batch):\n",
    "    # El batch es una lista de tuplas: [(dato1,label1), (dato2,label2),...]\n",
    "    sequences, labels = zip(*batch) # Esto devuelve: \n",
    "                                    # sequences = (dato1,dato2,...)\n",
    "                                    # labels = (label1,label2,...)\n",
    "    #labels = [torch.tensor([ord(c) for c in label]) for label in labels]\n",
    "    padded_sequences = pad_sequence(sequences, batch_first=True, padding_value=0)\n",
    "    padded_labels = pad_sequence(labels, batch_first=True, padding_value= 100)\n",
    "    return padded_sequences, padded_labels # Esta es la salida del dataloader\n",
    "\n",
    "train_ds = TimitDataset(train_json,vocab_file)\n",
    "test_ds = TimitDataset(test_json,vocab_file)\n",
    "valid_ds = TimitDataset(valid_json,vocab_file)\n",
    "\n",
    "train_dl = DataLoader(train_ds, batch_size=8, shuffle=True, collate_fn=collate_fn)\n",
    "test_dl = DataLoader(train_ds, batch_size=16, shuffle=False, collate_fn=collate_fn)\n",
    "valid_dl = DataLoader(train_ds, batch_size=16, shuffle=False, collate_fn=collate_fn)\n",
    "\n",
    "  \n",
    "        "
   ]
  },
  {
   "cell_type": "code",
   "execution_count": 17,
   "id": "3e07da27",
   "metadata": {},
   "outputs": [
    {
     "name": "stdout",
     "output_type": "stream",
     "text": [
      "Tamaño del batch: torch.Size([8, 54682])\n",
      "Tamaño de las etiquetas: 8\n",
      "Tamaño del batch: torch.Size([8, 81408])\n",
      "Tamaño de las etiquetas: 8\n",
      "Tamaño del batch: torch.Size([8, 88576])\n",
      "Tamaño de las etiquetas: 8\n",
      "Tamaño del batch: torch.Size([8, 59904])\n",
      "Tamaño de las etiquetas: 8\n",
      "Tamaño del batch: torch.Size([8, 73216])\n",
      "Tamaño de las etiquetas: 8\n"
     ]
    }
   ],
   "source": [
    "i=0\n",
    "for batch in train_dl:\n",
    "    sequences, labels = batch\n",
    "    print(\"Tamaño del batch:\", sequences.size())\n",
    "    print(\"Tamaño de las etiquetas:\", len(labels))\n",
    "    i += 1\n",
    "    if i >= 5:  # Limitar a un solo batch para evitar imprimir demasiado\n",
    "        break  # Solo para mostrar el primer batch y evitar imprimir demasiado"
   ]
  },
  {
   "cell_type": "code",
   "execution_count": null,
   "id": "2ecf7ba1",
   "metadata": {},
   "outputs": [
    {
     "ename": "TypeError",
     "evalue": "int() argument must be a string, a bytes-like object or a real number, not 'list'",
     "output_type": "error",
     "traceback": [
      "\u001b[0;31m---------------------------------------------------------------------------\u001b[0m",
      "\u001b[0;31mTypeError\u001b[0m                                 Traceback (most recent call last)",
      "Cell \u001b[0;32mIn[34], line 2\u001b[0m\n\u001b[1;32m      1\u001b[0m a \u001b[38;5;241m=\u001b[39m [\u001b[38;5;124m'\u001b[39m\u001b[38;5;124ms\u001b[39m\u001b[38;5;124m'\u001b[39m,\u001b[38;5;124m'\u001b[39m\u001b[38;5;124mr\u001b[39m\u001b[38;5;124m'\u001b[39m,\u001b[38;5;124m'\u001b[39m\u001b[38;5;124mm\u001b[39m\u001b[38;5;124m'\u001b[39m]\n\u001b[0;32m----> 2\u001b[0m \u001b[38;5;28mint\u001b[39m(a)\n",
      "\u001b[0;31mTypeError\u001b[0m: int() argument must be a string, a bytes-like object or a real number, not 'list'"
     ]
    }
   ],
   "source": [
    "a = ['s','r','m']\n",
    "int(a)"
   ]
  }
 ],
 "metadata": {
  "kernelspec": {
   "display_name": "base",
   "language": "python",
   "name": "python3"
  },
  "language_info": {
   "codemirror_mode": {
    "name": "ipython",
    "version": 3
   },
   "file_extension": ".py",
   "mimetype": "text/x-python",
   "name": "python",
   "nbconvert_exporter": "python",
   "pygments_lexer": "ipython3",
   "version": "3.12.2"
  }
 },
 "nbformat": 4,
 "nbformat_minor": 5
}
