{
 "cells": [
  {
   "cell_type": "markdown",
   "id": "b80050c2",
   "metadata": {},
   "source": [
    "# Reconocimiento de fonemas usando CTC"
   ]
  },
  {
   "cell_type": "code",
   "execution_count": 1,
   "id": "6bd4c865",
   "metadata": {},
   "outputs": [
    {
     "name": "stdout",
     "output_type": "stream",
     "text": [
      "cuda\n"
     ]
    }
   ],
   "source": [
    "import json\n",
    "import torch\n",
    "import torch.utils.data as data\n",
    "import torchaudio\n",
    "from matplotlib import pyplot as plt\n",
    "device = torch.device(\"cuda\" if torch.cuda.is_available() else \"cpu\")\n",
    "print(device)"
   ]
  },
  {
   "cell_type": "markdown",
   "id": "04ad64a3",
   "metadata": {},
   "source": [
    "## Implementación del dataset y el dataloader"
   ]
  },
  {
   "cell_type": "markdown",
   "id": "8f97ec1d",
   "metadata": {},
   "source": [
    "### Dataset\n",
    "Me convierte los datos crudos para que puedan ser usados por `Dataloader`. Me permite implementar una fucnión `__getitem__()` en la cual leemos los datos y devolvemos por ejemplo el wav y la transcripción de cada dato."
   ]
  },
  {
   "cell_type": "code",
   "execution_count": 2,
   "id": "ccc0ee22",
   "metadata": {},
   "outputs": [
    {
     "ename": "NameError",
     "evalue": "name 'json' is not defined",
     "output_type": "error",
     "traceback": [
      "\u001b[0;31m---------------------------------------------------------------------------\u001b[0m",
      "\u001b[0;31mNameError\u001b[0m                                 Traceback (most recent call last)",
      "Cell \u001b[0;32mIn[2], line 19\u001b[0m\n\u001b[1;32m     16\u001b[0m         phn \u001b[38;5;241m=\u001b[39m \u001b[38;5;28mself\u001b[39m\u001b[38;5;241m.\u001b[39mdatos_json[key][\u001b[38;5;124m'\u001b[39m\u001b[38;5;124mphn\u001b[39m\u001b[38;5;124m'\u001b[39m]\n\u001b[1;32m     17\u001b[0m         \u001b[38;5;28;01mreturn\u001b[39;00m wavdir, duration, phn\n\u001b[0;32m---> 19\u001b[0m train_dataset \u001b[38;5;241m=\u001b[39m \u001b[43mTimitDataset\u001b[49m\u001b[43m(\u001b[49m\u001b[43mtrain_json\u001b[49m\u001b[43m)\u001b[49m\n\u001b[1;32m     20\u001b[0m test_dataset \u001b[38;5;241m=\u001b[39m TimitDataset(test_json)\n\u001b[1;32m     21\u001b[0m valid_dataset \u001b[38;5;241m=\u001b[39m TimitDataset(valid_json)\n",
      "Cell \u001b[0;32mIn[2], line 8\u001b[0m, in \u001b[0;36mTimitDataset.__init__\u001b[0;34m(self, json_file)\u001b[0m\n\u001b[1;32m      6\u001b[0m \u001b[38;5;28;01mdef\u001b[39;00m \u001b[38;5;21m__init__\u001b[39m(\u001b[38;5;28mself\u001b[39m, json_file):\n\u001b[1;32m      7\u001b[0m     \u001b[38;5;28;01mwith\u001b[39;00m \u001b[38;5;28mopen\u001b[39m(json_file, \u001b[38;5;124m'\u001b[39m\u001b[38;5;124mr\u001b[39m\u001b[38;5;124m'\u001b[39m) \u001b[38;5;28;01mas\u001b[39;00m f:\n\u001b[0;32m----> 8\u001b[0m         \u001b[38;5;28mself\u001b[39m\u001b[38;5;241m.\u001b[39mdatos_json \u001b[38;5;241m=\u001b[39m \u001b[43mjson\u001b[49m\u001b[38;5;241m.\u001b[39mload(f)\n",
      "\u001b[0;31mNameError\u001b[0m: name 'json' is not defined"
     ]
    }
   ],
   "source": [
    "train_json = 'data/train.json'\n",
    "test_json = 'data/test.json'\n",
    "valid_json = 'data/dev.json'\n",
    "\n",
    "class TimitDataset():\n",
    "    def __init__(self, json_file):\n",
    "        with open(json_file, 'r') as f:\n",
    "            self.datos_json = json.load(f)\n",
    "\n",
    "    def __len__(self):\n",
    "        return len(self.datos_json)\n",
    "    \n",
    "    def __getitem__(self,key):\n",
    "        wavdir = self.datos_json[key]['wav']\n",
    "        duration = self.datos_json[key]['duration']\n",
    "        phn = self.datos_json[key]['phn']\n",
    "        return wavdir, duration, phn\n",
    "    \n",
    "train_dataset = TimitDataset(train_json)\n",
    "test_dataset = TimitDataset(test_json)\n",
    "valid_dataset = TimitDataset(valid_json)\n",
    "\n",
    "# Ejemplo de uso de Dataset           \n",
    "wavdir, dur, phn = valid_dataset['mrws1_sx230']\n",
    "        \n",
    "        "
   ]
  },
  {
   "cell_type": "code",
   "execution_count": 17,
   "id": "cc8d874a",
   "metadata": {},
   "outputs": [
    {
     "data": {
      "text/plain": [
       "'sil ah l aw l iy w ey hh iy er sil b ah r ae sh sil n l ay z aa l eh r er z sil'"
      ]
     },
     "execution_count": 17,
     "metadata": {},
     "output_type": "execute_result"
    }
   ],
   "source": [
    "phn"
   ]
  },
  {
   "cell_type": "markdown",
   "id": "33c4d56f",
   "metadata": {},
   "source": [
    "### DataLoader\n",
    "La función principal es agrupar en batches los items que provienen del dataset y, si es necesario, padear los items para que el batch sea de igual ancho."
   ]
  }
 ],
 "metadata": {
  "kernelspec": {
   "display_name": "base",
   "language": "python",
   "name": "python3"
  },
  "language_info": {
   "codemirror_mode": {
    "name": "ipython",
    "version": 3
   },
   "file_extension": ".py",
   "mimetype": "text/x-python",
   "name": "python",
   "nbconvert_exporter": "python",
   "pygments_lexer": "ipython3",
   "version": "3.12.2"
  }
 },
 "nbformat": 4,
 "nbformat_minor": 5
}
