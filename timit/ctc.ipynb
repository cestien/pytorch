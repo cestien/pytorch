{
 "cells": [
  {
   "cell_type": "markdown",
   "id": "b80050c2",
   "metadata": {},
   "source": [
    "# Reconocimiento de fonemas usando CTC"
   ]
  },
  {
   "cell_type": "code",
   "execution_count": 2,
   "id": "6bd4c865",
   "metadata": {},
   "outputs": [
    {
     "name": "stdout",
     "output_type": "stream",
     "text": [
      "cuda\n"
     ]
    }
   ],
   "source": [
    "import json\n",
    "import torch\n",
    "import torch.utils.data as data\n",
    "import torchaudio\n",
    "import torch.nn as nn\n",
    "import torchaudio.transforms as F\n",
    "from torch.nn.utils.rnn import pad_sequence\n",
    "from collections import OrderedDict\n",
    "from torch.utils.data import  Dataset, DataLoader\n",
    "from torchaudio.models.decoder import ctc_decoder # vamos a hacer un decoder greedy, por razones \n",
    "                                                  # didácticas, este se usaría si quisiera\n",
    "                                                  # implementarlo con beam search\n",
    "\n",
    "device = torch.device(\"cuda\" if torch.cuda.is_available() else \"cpu\")\n",
    "print(device)"
   ]
  },
  {
   "cell_type": "markdown",
   "id": "04ad64a3",
   "metadata": {},
   "source": [
    "## Implementación del dataset y el dataloader"
   ]
  },
  {
   "cell_type": "markdown",
   "id": "8f97ec1d",
   "metadata": {},
   "source": [
    "### Dataset\n",
    "Me convierte los datos crudos para que puedan ser usados por `Dataloader`. Me permite implementar una función `__getitem__()` en la cual leemos los datos y devolvemos por ejemplo el wav y la transcripción de cada dato."
   ]
  },
  {
   "cell_type": "code",
   "execution_count": 3,
   "id": "ccc0ee22",
   "metadata": {},
   "outputs": [],
   "source": [
    "vocab_file = 'data/label_encoder_new.txt'\n",
    "train_json = 'data/train.json'\n",
    "test_json = 'data/test.json'\n",
    "valid_json = 'data/dev.json'\n",
    "\n",
    "def load_phoneme_vocabulary(filepath: str) -> tuple[dict, dict]:\n",
    "    \"\"\"\n",
    "    Carga un vocabulario de fonemas desde un archivo de texto.\n",
    "    El archivo debe tener el formato 'fonema=>indice' por línea.\n",
    "\n",
    "    Args:\n",
    "        filepath (str): La ruta al archivo de vocabulario.\n",
    "\n",
    "    Returns:\n",
    "        tuple[dict, dict]: Una tupla que contiene:\n",
    "            - phoneme_to_idx (dict): Un diccionario que mapea fonema a índice.\n",
    "            - idx_to_phoneme (dict): Un diccionario que mapea índice a fonema.\n",
    "    \"\"\"\n",
    "    phoneme_to_idx = {}\n",
    "    idx_to_phoneme = {}\n",
    "\n",
    "    with open(filepath, 'r', encoding='utf-8') as f:\n",
    "        for line in f:\n",
    "            parts = line.strip().split('=>')\n",
    "            if len(parts) == 2:\n",
    "                phoneme = parts[0].strip().strip(\"'\") \n",
    "                idx_str = parts[1].strip()\n",
    "                try:\n",
    "                    index = int(idx_str)\n",
    "                    phoneme_to_idx[phoneme] = index\n",
    "                    idx_to_phoneme[index] = phoneme\n",
    "                except ValueError:\n",
    "                    raise ValueError(f\"Error: Índice inválido en la línea: '{line.strip()}'\")\n",
    "            else:\n",
    "                raise ValueError(f\"Error: Línea mal formada (se esperaba 'fonema=>indice'): '{line.strip()}'\")\n",
    "    \n",
    "    return phoneme_to_idx, idx_to_phoneme\n",
    "\n",
    "\n",
    "class TimitDataset(Dataset):\n",
    "    def __init__(self, json_file, vocab_file):\n",
    "        try:\n",
    "            with open(json_file, 'r') as f:\n",
    "                self.datos_json = json.load(f)\n",
    "        except FileNotFoundError:\n",
    "            print(f\"Error: El archivo {json_file} no se encuentra.\")\n",
    "        # Get a list of all sample IDs (keys in the top-level dictionary)\n",
    "        self.datos_ids = list(self.datos_json.keys())\n",
    "        # Load phoneme vocabulary\n",
    "        self.str2int, self.int2str = load_phoneme_vocabulary(vocab_file)\n",
    "\n",
    "    def __len__(self):\n",
    "        return len(self.datos_json)\n",
    "    \n",
    "    def __getitem__(self, idx):\n",
    "        key = self.datos_ids[idx]\n",
    "        wavdir = self.datos_json[key]['wav']\n",
    "        duration = self.datos_json[key]['duration']\n",
    "        phn = self.datos_json[key]['phn']\n",
    "        # Load the audio file\n",
    "        waveform, sample_rate = torchaudio.load(wavdir)\n",
    "        # Convert waveform to a 1D tensor\n",
    "        waveform = waveform.squeeze(0)\n",
    "        # Convert phoneme labels to a tensor\n",
    "        phn_list = phn.strip().split()\n",
    "        phn_list = [self.str2int[phoneme] for phoneme in phn_list]\n",
    "        \n",
    "        return waveform, torch.tensor(phn_list)\n",
    "\n",
    "\n",
    "\n",
    "def collate_fn(batch):\n",
    "    # El batch es una lista de tuplas: [(dato1,label1), (dato2,label2),...]\n",
    "    sequences, labels = zip(*batch) # Esto devuelve: \n",
    "                                    # sequences = (dato1,dato2,...)\n",
    "                                    # labels = (label1,label2,...)\n",
    "    #phn_tensors = [torch.tensor([ord(c) for c in label]) for label in labels]\n",
    "\n",
    "    wav_length = torch.tensor([w.shape[0] for w in sequences], dtype=torch.long)\n",
    "    phn_length = torch.tensor([p.shape[0] for p in labels], dtype=torch.long)\n",
    "    \n",
    "    wav_length = wav_length.float() / torch.max(wav_length.float()) \n",
    "    phn_length = phn_length.float() / torch.max(phn_length.float()) \n",
    "    padded_wav = pad_sequence(sequences, batch_first=True, padding_value=0)\n",
    "    padded_phn = pad_sequence(labels, batch_first=True, padding_value= -1)\n",
    "    return (padded_wav, wav_length), (padded_phn, phn_length) # Esta es la salida del dataloader\n",
    "\n",
    "train_ds = TimitDataset(train_json,vocab_file)\n",
    "test_ds = TimitDataset(test_json,vocab_file)\n",
    "valid_ds = TimitDataset(valid_json,vocab_file)\n",
    "\n",
    "train_dl = DataLoader(train_ds, batch_size=8, shuffle=True, collate_fn=collate_fn)\n",
    "test_dl = DataLoader(train_ds, batch_size=16, shuffle=False, collate_fn=collate_fn)\n",
    "valid_dl = DataLoader(train_ds, batch_size=16, shuffle=False, collate_fn=collate_fn)\n",
    "\n",
    "  \n"
   ]
  },
  {
   "cell_type": "markdown",
   "id": "04b7d974",
   "metadata": {},
   "source": [
    "## Implementación del modelo"
   ]
  },
  {
   "cell_type": "code",
   "execution_count": 4,
   "id": "3e07da27",
   "metadata": {},
   "outputs": [],
   "source": [
    "# Parámetros\n",
    "par = {'sample_rate': 16000, 'n_fft': 400, 'n_mels': 40, 'lr': 0.1, 'dropout': 0.15, 'cnn_channels': (128,256),\n",
    "        'cnn_kernelsize': (3,3), 'rnn_layers': 4, 'rnn_neurons': 512, 'dnn_blocks':2, 'dnn_neurons':512}\n",
    "        "
   ]
  },
  {
   "cell_type": "code",
   "execution_count": 5,
   "id": "0f0f6cf1",
   "metadata": {},
   "outputs": [],
   "source": [
    "# Bloque cnn similar al de speechbrain: \n",
    "# conv1d-->layer normalization-->Leaky Relu-->Pooling-->drop-out\n",
    "\n",
    "# Modulo transpose para usarlo como una capa cualquiera\n",
    "class Transpose(nn.Module):\n",
    "    def __init__(self, dim0: int, dim1: int):\n",
    "        super().__init__()\n",
    "        self.dim0 = dim0\n",
    "        self.dim1 = dim1\n",
    "\n",
    "    def forward(self, x: torch.Tensor) -> torch.Tensor:\n",
    "        return x.transpose(self.dim0, self.dim1)\n",
    "    \n",
    "class CNN_block(nn.Module):\n",
    "    def __init__(self, n_mels: int, n_channels: int, kernel_size: int, \n",
    "                    pool_kernel_size: int, do_prob: float = 0.0):\n",
    "        super().__init__()\n",
    "        layers = []\n",
    "        layers.append( nn.Conv1d(in_channels=n_mels, out_channels=n_channels, kernel_size=kernel_size, stride=1, \n",
    "                      padding=\"same\", padding_mode= \"replicate\") )\n",
    "        layers.append(Transpose(1,2))\n",
    "        layers.append(nn.LayerNorm(n_channels))\n",
    "        layers.append(Transpose(1,2))\n",
    "        layers.append(nn.LeakyReLU())\n",
    "        layers.append(nn.MaxPool1d(kernel_size=pool_kernel_size, stride=1))\n",
    "        layers.append(nn.Dropout(p=do_prob))\n",
    "        self.bloque_cnn = nn.Sequential(*layers)\n",
    "        self.pool_kernel_size = pool_kernel_size\n",
    "    \n",
    "    def forward(self, x: torch.Tensor, lengths: torch.Tensor):\n",
    "        x = self.bloque_cnn(x)\n",
    "\n",
    "        # Create a boolean mask: True for valid data, False for padding\n",
    "        new_lengths = lengths - self.pool_kernel_size + 1\n",
    "        output_max_len = x.size(2)\n",
    "        mask = torch.arange(output_max_len).unsqueeze(0) < new_lengths.unsqueeze(1)\n",
    "        mask = mask.unsqueeze(1) \n",
    "        x_masked = x * mask\n",
    "\n",
    "        return x_masked, new_lengths\n",
    "\n"
   ]
  },
  {
   "cell_type": "code",
   "execution_count": 6,
   "id": "32624f4c",
   "metadata": {},
   "outputs": [],
   "source": [
    "from collections import OrderedDict\n",
    "import torch\n",
    "import torch.nn as nn\n",
    "layers = OrderedDict()\n",
    "n_cnn = 2\n",
    "n_rnn = 2\n",
    "n_dnn = 4\n",
    "for i in range(n_cnn):\n",
    "    layers[f\"cnn_block_{i+1}\"] = nn.ReLU()\n",
    "for i in range(n_rnn):\n",
    "    layers[f\"rnn_block_{i+1}\"] = nn.ReLU()\n",
    "for i in range(n_dnn):\n",
    "    layers[f\"dnn_block_{i+1}\"] = nn.ReLU()\n",
    "model = nn.Sequential(layers)\n",
    "\n"
   ]
  },
  {
   "cell_type": "code",
   "execution_count": null,
   "id": "7168699a",
   "metadata": {},
   "outputs": [],
   "source": [
    "capas = []\n",
    "for i in range(n_cnn):"
   ]
  }
 ],
 "metadata": {
  "kernelspec": {
   "display_name": "base",
   "language": "python",
   "name": "python3"
  },
  "language_info": {
   "codemirror_mode": {
    "name": "ipython",
    "version": 3
   },
   "file_extension": ".py",
   "mimetype": "text/x-python",
   "name": "python",
   "nbconvert_exporter": "python",
   "pygments_lexer": "ipython3",
   "version": "3.12.2"
  }
 },
 "nbformat": 4,
 "nbformat_minor": 5
}
